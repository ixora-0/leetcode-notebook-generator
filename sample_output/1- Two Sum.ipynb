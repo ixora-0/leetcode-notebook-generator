{
 "cells": [
  {
   "cell_type": "markdown",
   "id": "30f83cd2",
   "metadata": {},
   "source": [
    "# 1. Two Sum"
   ]
  },
  {
   "cell_type": "code",
   "execution_count": null,
   "id": "cf2ff20e",
   "metadata": {},
   "outputs": [],
   "source": [
    "from typing import List"
   ]
  },
  {
   "cell_type": "code",
   "execution_count": null,
   "id": "0ced881e",
   "metadata": {},
   "outputs": [],
   "source": [
    "class Solution:\n",
    "    def twoSum(self, nums: List[int], target: int) -> List[int]:        "
   ]
  },
  {
   "cell_type": "markdown",
   "id": "8a6a7c09",
   "metadata": {},
   "source": [
    "# Tests"
   ]
  },
  {
   "cell_type": "code",
   "execution_count": null,
   "id": "9b43a8a3",
   "metadata": {},
   "outputs": [],
   "source": [
    "S = Solution()\n",
    "# case 1\n",
    "nums = [2,7,11,15]\n",
    "target = 9\n",
    "print(f'Case 1 outputted {S.twoSum(nums, target)}.')\n",
    "# case 2\n",
    "nums = [3,2,4]\n",
    "target = 6\n",
    "print(f'Case 2 outputted {S.twoSum(nums, target)}.')\n",
    "# case 3\n",
    "nums = [3,3]\n",
    "target = 6\n",
    "print(f'Case 3 outputted {S.twoSum(nums, target)}.')\n"
   ]
  }
 ],
 "metadata": {},
 "nbformat": 4,
 "nbformat_minor": 5
}
